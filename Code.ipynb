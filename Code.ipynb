{
  "nbformat": 4,
  "nbformat_minor": 0,
  "metadata": {
    "colab": {
      "provenance": [],
      "gpuType": "T4"
    },
    "kernelspec": {
      "name": "python3",
      "display_name": "Python 3"
    },
    "language_info": {
      "name": "python"
    },
    "accelerator": "GPU"
  },
  "cells": [
    {
      "cell_type": "code",
      "execution_count": 2,
      "metadata": {
        "colab": {
          "base_uri": "https://localhost:8080/"
        },
        "id": "TqTmJrWxTfu_",
        "outputId": "7ff211db-b113-434a-96ef-1a317fafe402"
      },
      "outputs": [
        {
          "output_type": "stream",
          "name": "stdout",
          "text": [
            "Fetched 100 users from page 1\n",
            "Fetched 100 users from page 2\n",
            "Fetched 100 users from page 3\n",
            "Fetched 32 users from page 4\n",
            "Total users fetched: 332\n",
            "Saved user details to users.csv\n",
            "Fetched page 1 of repos for user mosh-hamedani\n",
            "Fetched page 1 of repos for user TheCherno\n",
            "Fetched page 1 of repos for user haileys\n",
            "Fetched page 2 of repos for user haileys\n",
            "Fetched page 3 of repos for user haileys\n",
            "Fetched page 4 of repos for user haileys\n",
            "Fetched page 1 of repos for user rstacruz\n",
            "Fetched page 2 of repos for user rstacruz\n",
            "Fetched page 3 of repos for user rstacruz\n",
            "Fetched page 4 of repos for user rstacruz\n",
            "Fetched page 5 of repos for user rstacruz\n",
            "Fetched page 6 of repos for user rstacruz\n",
            "Fetched page 1 of repos for user jesseduffield\n",
            "Fetched page 1 of repos for user basarat\n",
            "Fetched page 2 of repos for user basarat\n",
            "Fetched page 3 of repos for user basarat\n",
            "Fetched page 4 of repos for user basarat\n",
            "Fetched page 5 of repos for user basarat\n",
            "Fetched page 1 of repos for user markdalgleish\n",
            "Fetched page 2 of repos for user markdalgleish\n",
            "Fetched page 3 of repos for user markdalgleish\n",
            "Fetched page 1 of repos for user JakeLin\n",
            "Fetched page 1 of repos for user binarythistle\n",
            "Fetched page 1 of repos for user radar\n",
            "Fetched page 2 of repos for user radar\n",
            "Fetched page 3 of repos for user radar\n",
            "Fetched page 1 of repos for user mishmanners\n",
            "Fetched page 2 of repos for user mishmanners\n",
            "Fetched page 1 of repos for user timacdonald\n",
            "Fetched page 1 of repos for user TuPayChain\n",
            "Fetched page 1 of repos for user md-5\n",
            "Fetched page 2 of repos for user md-5\n",
            "Fetched page 1 of repos for user thomasdavis\n",
            "Fetched page 2 of repos for user thomasdavis\n",
            "Fetched page 1 of repos for user geelen\n",
            "Fetched page 2 of repos for user geelen\n",
            "Fetched page 3 of repos for user geelen\n",
            "Fetched page 1 of repos for user MugunthKumar\n",
            "Fetched page 1 of repos for user tseemann\n",
            "Fetched page 2 of repos for user tseemann\n",
            "Fetched page 1 of repos for user loftwah\n",
            "Fetched page 2 of repos for user loftwah\n",
            "Fetched page 3 of repos for user loftwah\n",
            "Fetched page 4 of repos for user loftwah\n",
            "Fetched page 1 of repos for user rogerclarkmelbourne\n",
            "Fetched page 1 of repos for user jxom\n",
            "Fetched page 2 of repos for user jxom\n",
            "Fetched page 1 of repos for user rrwick\n",
            "Fetched page 1 of repos for user abruzzi\n",
            "Fetched page 2 of repos for user abruzzi\n",
            "Fetched page 3 of repos for user abruzzi\n",
            "Fetched page 4 of repos for user abruzzi\n",
            "Fetched page 1 of repos for user kitsonk\n",
            "Fetched page 2 of repos for user kitsonk\n",
            "Fetched page 1 of repos for user mattgallagher\n",
            "Fetched page 1 of repos for user sidorares\n",
            "Fetched page 2 of repos for user sidorares\n",
            "Fetched page 1 of repos for user benschwarz\n",
            "Fetched page 2 of repos for user benschwarz\n",
            "Fetched page 1 of repos for user philnash\n",
            "Fetched page 2 of repos for user philnash\n",
            "Fetched page 3 of repos for user philnash\n",
            "Fetched page 4 of repos for user philnash\n",
            "Fetched page 1 of repos for user Viralmaniar\n",
            "Fetched page 1 of repos for user iancoleman\n",
            "Fetched page 1 of repos for user brendanzab\n",
            "Fetched page 2 of repos for user brendanzab\n",
            "Fetched page 1 of repos for user dpgeorge\n",
            "Fetched page 1 of repos for user tmeasday\n",
            "Fetched page 2 of repos for user tmeasday\n",
            "Fetched page 3 of repos for user tmeasday\n",
            "Fetched page 4 of repos for user tmeasday\n",
            "Fetched page 1 of repos for user Expensify\n",
            "Fetched page 1 of repos for user AliasIO\n",
            "Fetched page 1 of repos for user jcouyang\n",
            "Fetched page 2 of repos for user jcouyang\n",
            "Fetched page 1 of repos for user kivikakk\n",
            "Fetched page 1 of repos for user nnethercote\n",
            "Fetched page 1 of repos for user ryanseddon\n",
            "Fetched page 2 of repos for user ryanseddon\n",
            "Fetched page 1 of repos for user jaydenseric\n",
            "Fetched page 2 of repos for user jaydenseric\n",
            "Fetched page 1 of repos for user initstring\n",
            "Fetched page 1 of repos for user Anon-Exploiter\n",
            "Fetched page 2 of repos for user Anon-Exploiter\n",
            "Fetched page 1 of repos for user bardiharborow\n",
            "Fetched page 1 of repos for user xaviershay\n",
            "Fetched page 2 of repos for user xaviershay\n",
            "Fetched page 3 of repos for user xaviershay\n",
            "Fetched page 1 of repos for user dicook\n",
            "Fetched page 1 of repos for user Karolyna84\n",
            "Fetched page 1 of repos for user priseborough\n",
            "Fetched page 1 of repos for user drewnoakes\n",
            "Fetched page 2 of repos for user drewnoakes\n",
            "Fetched page 1 of repos for user wahyd4\n",
            "Fetched page 2 of repos for user wahyd4\n",
            "Fetched page 1 of repos for user wireghoul\n",
            "Fetched page 1 of repos for user pat\n",
            "Fetched page 2 of repos for user pat\n",
            "Fetched page 3 of repos for user pat\n",
            "Fetched page 1 of repos for user abolkog\n",
            "Fetched page 1 of repos for user fraserxu\n",
            "Fetched page 2 of repos for user fraserxu\n",
            "Fetched page 1 of repos for user mokagio\n",
            "Fetched page 2 of repos for user mokagio\n",
            "Fetched page 3 of repos for user mokagio\n",
            "Fetched page 1 of repos for user trevorstephens\n",
            "Fetched page 1 of repos for user amanda08\n",
            "Fetched page 1 of repos for user toolmantim\n",
            "Fetched page 2 of repos for user toolmantim\n",
            "Fetched page 1 of repos for user daurnimator\n",
            "Fetched page 2 of repos for user daurnimator\n",
            "Fetched page 1 of repos for user mitchmindtree\n",
            "Fetched page 2 of repos for user mitchmindtree\n",
            "Fetched page 3 of repos for user mitchmindtree\n",
            "Fetched page 1 of repos for user hamishwillee\n",
            "Fetched page 2 of repos for user hamishwillee\n",
            "Fetched page 1 of repos for user kolber\n",
            "Fetched page 1 of repos for user hugomd\n",
            "Fetched page 2 of repos for user hugomd\n",
            "Fetched page 1 of repos for user joho\n",
            "Fetched page 1 of repos for user merill\n",
            "Fetched page 1 of repos for user UnexpectedMaker\n",
            "Fetched page 1 of repos for user jagregory\n",
            "Fetched page 2 of repos for user jagregory\n",
            "Fetched page 1 of repos for user moroshko\n",
            "Fetched page 2 of repos for user moroshko\n",
            "Fetched page 1 of repos for user davkean\n",
            "Fetched page 1 of repos for user jni\n",
            "Fetched page 2 of repos for user jni\n",
            "Fetched page 3 of repos for user jni\n",
            "Fetched page 4 of repos for user jni\n",
            "Fetched page 1 of repos for user chendo\n",
            "Fetched page 2 of repos for user chendo\n",
            "Fetched page 3 of repos for user chendo\n",
            "Fetched page 1 of repos for user Benjamin-Dobell\n",
            "Fetched page 2 of repos for user Benjamin-Dobell\n",
            "Fetched page 1 of repos for user justinsteven\n",
            "Fetched page 1 of repos for user nickgammon\n",
            "Fetched page 1 of repos for user evgenyneu\n",
            "Fetched page 2 of repos for user evgenyneu\n",
            "Fetched page 1 of repos for user azz\n",
            "Fetched page 2 of repos for user azz\n",
            "Fetched page 1 of repos for user taitems\n",
            "Fetched page 1 of repos for user alexhude\n",
            "Fetched page 1 of repos for user waferbaby\n",
            "Fetched page 1 of repos for user Sutto\n",
            "Fetched page 2 of repos for user Sutto\n",
            "Fetched page 1 of repos for user chrisleekr\n",
            "Fetched page 1 of repos for user aidansteele\n",
            "Fetched page 2 of repos for user aidansteele\n",
            "Fetched page 1 of repos for user sj26\n",
            "Fetched page 2 of repos for user sj26\n",
            "Fetched page 3 of repos for user sj26\n",
            "Fetched page 4 of repos for user sj26\n",
            "Fetched page 1 of repos for user justinfrench\n",
            "Fetched page 1 of repos for user vektah\n",
            "Fetched page 1 of repos for user aaronparker\n",
            "Fetched page 1 of repos for user aershov24\n",
            "Fetched page 1 of repos for user wolfeidau\n",
            "Fetched page 2 of repos for user wolfeidau\n",
            "Fetched page 3 of repos for user wolfeidau\n",
            "Fetched page 4 of repos for user wolfeidau\n",
            "Fetched page 5 of repos for user wolfeidau\n",
            "Fetched page 1 of repos for user eugeneware\n",
            "Fetched page 2 of repos for user eugeneware\n",
            "Fetched page 3 of repos for user eugeneware\n",
            "Fetched page 1 of repos for user deoxxa\n",
            "Fetched page 2 of repos for user deoxxa\n",
            "Fetched page 3 of repos for user deoxxa\n",
            "Fetched page 4 of repos for user deoxxa\n",
            "Fetched page 1 of repos for user Rosuav\n",
            "Fetched page 2 of repos for user Rosuav\n",
            "Fetched page 3 of repos for user Rosuav\n",
            "Fetched page 1 of repos for user tabs-not-spaces\n",
            "Fetched page 2 of repos for user tabs-not-spaces\n",
            "Fetched page 1 of repos for user edhinrichsen\n",
            "Fetched page 1 of repos for user ihadeed\n",
            "Fetched page 2 of repos for user ihadeed\n",
            "Fetched page 1 of repos for user RManLuo\n",
            "Fetched page 1 of repos for user rfk\n",
            "Fetched page 1 of repos for user AndiiCodes\n",
            "Fetched page 1 of repos for user srikat\n",
            "Fetched page 1 of repos for user devgeeks\n",
            "Fetched page 1 of repos for user joshwnj\n",
            "Fetched page 2 of repos for user joshwnj\n",
            "Fetched page 1 of repos for user KaelWD\n",
            "Fetched page 1 of repos for user andyyhope\n",
            "Fetched page 1 of repos for user psifertex\n",
            "Fetched page 2 of repos for user psifertex\n",
            "Fetched page 1 of repos for user alanjrogers\n",
            "Fetched page 1 of repos for user pact-foundation\n",
            "Fetched page 1 of repos for user pjf\n",
            "Fetched page 2 of repos for user pjf\n",
            "Fetched page 1 of repos for user brainstorm\n",
            "Fetched page 1 of repos for user dekz\n",
            "Fetched page 2 of repos for user dekz\n",
            "Fetched page 1 of repos for user mohammadKarimi\n",
            "Fetched page 1 of repos for user abcminiuser\n",
            "Fetched page 1 of repos for user lox\n",
            "Fetched page 1 of repos for user sbarski\n",
            "Fetched page 1 of repos for user timusus\n",
            "Fetched page 1 of repos for user jonoxer\n",
            "Fetched page 1 of repos for user ntwb\n",
            "Fetched page 1 of repos for user Alhadis\n",
            "Fetched page 1 of repos for user pento\n",
            "Fetched page 1 of repos for user benhoskings\n",
            "Fetched page 1 of repos for user MelbourneDeveloper\n",
            "Fetched page 1 of repos for user japgolly\n",
            "Fetched page 2 of repos for user japgolly\n",
            "Fetched page 1 of repos for user hawkowl\n",
            "Fetched page 1 of repos for user a1studmuffin\n",
            "Fetched page 1 of repos for user camjackson\n",
            "Fetched page 1 of repos for user alexbrainman\n",
            "Fetched page 1 of repos for user LucasGarcez\n",
            "Fetched page 1 of repos for user snyff\n",
            "Fetched page 1 of repos for user eliocamp\n",
            "Fetched page 2 of repos for user eliocamp\n",
            "Fetched page 1 of repos for user ninxsoft\n",
            "Fetched page 1 of repos for user AlexDBlack\n",
            "Fetched page 1 of repos for user marcusvolz\n",
            "Fetched page 1 of repos for user nelix\n",
            "Fetched page 1 of repos for user JoshuaBatty\n",
            "Fetched page 1 of repos for user BeauNouvelle\n",
            "Fetched page 1 of repos for user skorks\n",
            "Fetched page 1 of repos for user RoyalIcing\n",
            "Fetched page 2 of repos for user RoyalIcing\n",
            "Fetched page 1 of repos for user ComponentFactory\n",
            "Fetched page 1 of repos for user bentrengrove\n",
            "Fetched page 1 of repos for user karkranikhil\n",
            "Fetched page 2 of repos for user karkranikhil\n",
            "Fetched page 3 of repos for user karkranikhil\n",
            "Fetched page 4 of repos for user karkranikhil\n",
            "Fetched page 5 of repos for user karkranikhil\n",
            "Fetched page 1 of repos for user SebastianElvis\n",
            "Fetched page 1 of repos for user notahat\n",
            "Fetched page 1 of repos for user sampage\n",
            "Fetched page 1 of repos for user sporto\n",
            "Fetched page 2 of repos for user sporto\n",
            "Fetched page 1 of repos for user abcoathup\n",
            "Fetched page 1 of repos for user navidcy\n",
            "Fetched page 2 of repos for user navidcy\n",
            "Fetched page 1 of repos for user lachlanhardy\n",
            "Fetched page 1 of repos for user mefellows\n",
            "Fetched page 2 of repos for user mefellows\n",
            "Fetched page 1 of repos for user djmdjm\n",
            "Fetched page 1 of repos for user yob\n",
            "Fetched page 2 of repos for user yob\n",
            "Fetched page 1 of repos for user grahamegrieve\n",
            "Fetched page 1 of repos for user dhotson\n",
            "Fetched page 1 of repos for user arttnba3\n",
            "Fetched page 1 of repos for user Mair\n",
            "Fetched page 1 of repos for user xiaodaigh\n",
            "Fetched page 2 of repos for user xiaodaigh\n",
            "Fetched page 1 of repos for user ychescale9\n",
            "Fetched page 1 of repos for user dipjyotimetia\n",
            "Fetched page 2 of repos for user dipjyotimetia\n",
            "Fetched page 3 of repos for user dipjyotimetia\n",
            "Fetched page 4 of repos for user dipjyotimetia\n",
            "Fetched page 5 of repos for user dipjyotimetia\n",
            "Fetched page 1 of repos for user DWilliames\n",
            "Fetched page 1 of repos for user 0neSe7en\n",
            "Fetched page 2 of repos for user 0neSe7en\n",
            "Fetched page 1 of repos for user ACloudGuru\n",
            "Fetched page 1 of repos for user mikefarah\n",
            "Fetched page 1 of repos for user mihar-22\n",
            "Fetched page 1 of repos for user davidwengier\n",
            "Fetched page 2 of repos for user davidwengier\n",
            "Fetched page 1 of repos for user stevage\n",
            "Fetched page 2 of repos for user stevage\n",
            "Fetched page 3 of repos for user stevage\n",
            "Fetched page 1 of repos for user crafterm\n",
            "Fetched page 1 of repos for user tomdalling\n",
            "Fetched page 1 of repos for user adammurdoch\n",
            "Fetched page 1 of repos for user maks\n",
            "Fetched page 2 of repos for user maks\n",
            "Fetched page 3 of repos for user maks\n",
            "Fetched page 4 of repos for user maks\n",
            "Fetched page 1 of repos for user 99designs\n",
            "Fetched page 1 of repos for user jessedc\n",
            "Fetched page 1 of repos for user jarshwah\n",
            "Fetched page 1 of repos for user varund7726\n",
            "Fetched page 1 of repos for user domesticcatsoftware\n",
            "Fetched page 1 of repos for user mblode\n",
            "Fetched page 2 of repos for user mblode\n",
            "Fetched page 1 of repos for user KelvinJin\n",
            "Fetched page 1 of repos for user vinhphunguyen\n",
            "Fetched page 1 of repos for user jeromyanglim\n",
            "Fetched page 1 of repos for user chris-horner\n",
            "Fetched page 1 of repos for user magnetikonline\n",
            "Fetched page 1 of repos for user mattnotmax\n",
            "Fetched page 1 of repos for user sammcj\n",
            "Fetched page 2 of repos for user sammcj\n",
            "Fetched page 1 of repos for user nathanielw\n",
            "Fetched page 1 of repos for user neekey\n",
            "Fetched page 2 of repos for user neekey\n",
            "Fetched page 1 of repos for user jimjam-slam\n",
            "Fetched page 1 of repos for user mukul500\n",
            "Fetched page 1 of repos for user rmit-computing-technologies\n",
            "Fetched page 1 of repos for user ash47\n",
            "Fetched page 1 of repos for user MattCowgill\n",
            "Fetched page 1 of repos for user benbarsdell\n",
            "Fetched page 1 of repos for user bcgit\n",
            "Fetched page 1 of repos for user willvelida\n",
            "Fetched page 2 of repos for user willvelida\n",
            "Fetched page 3 of repos for user willvelida\n",
            "Fetched page 1 of repos for user ericjiang97\n",
            "Fetched page 2 of repos for user ericjiang97\n",
            "Fetched page 1 of repos for user kmkurn\n",
            "Fetched page 1 of repos for user ajfisher\n",
            "Fetched page 1 of repos for user glennawatson\n",
            "Fetched page 1 of repos for user ldiebold\n",
            "Fetched page 1 of repos for user abraunegg\n",
            "Fetched page 1 of repos for user ocavue\n",
            "Fetched page 2 of repos for user ocavue\n",
            "Fetched page 3 of repos for user ocavue\n",
            "Fetched page 1 of repos for user cjbj\n",
            "Fetched page 1 of repos for user xxfast\n",
            "Fetched page 1 of repos for user ianw\n",
            "Fetched page 1 of repos for user shsingh\n",
            "Fetched page 1 of repos for user GenevieveBuckley\n",
            "Fetched page 2 of repos for user GenevieveBuckley\n",
            "Fetched page 3 of repos for user GenevieveBuckley\n",
            "Fetched page 1 of repos for user Djelibeybi\n",
            "Fetched page 1 of repos for user sync\n",
            "Fetched page 1 of repos for user geeknam\n",
            "Fetched page 1 of repos for user eigenbom\n",
            "Fetched page 1 of repos for user honglytech\n",
            "Fetched page 1 of repos for user chengzhag\n",
            "Fetched page 1 of repos for user Falconerd\n",
            "Fetched page 1 of repos for user adriangranados\n",
            "Fetched page 1 of repos for user ronrest\n",
            "Fetched page 1 of repos for user feilipu\n",
            "Fetched page 1 of repos for user NiREvil\n",
            "Fetched page 1 of repos for user robn\n",
            "Fetched page 2 of repos for user robn\n",
            "Fetched page 1 of repos for user JohnyXu\n",
            "Fetched page 1 of repos for user d11wtq\n",
            "Fetched page 1 of repos for user leonyuhanov\n",
            "Fetched page 1 of repos for user wangdicoder\n",
            "Fetched page 1 of repos for user taybenlor\n",
            "Fetched page 1 of repos for user x-team\n",
            "Fetched page 1 of repos for user simontime\n",
            "Fetched page 1 of repos for user rajyraman\n",
            "Fetched page 1 of repos for user davidobrien1985\n",
            "Fetched page 1 of repos for user josephsurin\n",
            "Fetched page 1 of repos for user tgdwyer\n",
            "Fetched page 1 of repos for user nataliethenerd\n",
            "Fetched page 1 of repos for user gavinballard\n",
            "Fetched page 1 of repos for user wilba\n",
            "Fetched page 1 of repos for user bungnoid\n",
            "Fetched page 1 of repos for user skoval\n",
            "Fetched page 1 of repos for user prodigysml\n",
            "Fetched page 1 of repos for user JacksonBates\n",
            "Fetched page 1 of repos for user plasticine\n",
            "Fetched page 2 of repos for user plasticine\n",
            "Fetched page 1 of repos for user timbertson\n",
            "Fetched page 2 of repos for user timbertson\n",
            "Fetched page 3 of repos for user timbertson\n",
            "Fetched page 1 of repos for user NullTerminatorr\n",
            "Fetched page 1 of repos for user julia-\n",
            "Fetched page 1 of repos for user ibracorp\n",
            "Fetched page 1 of repos for user mariovisic\n",
            "Fetched page 1 of repos for user JaseZiv\n",
            "Fetched page 1 of repos for user mdneuzerling\n",
            "Fetched page 1 of repos for user minghao-wu\n",
            "Fetched page 1 of repos for user DavidArayan\n",
            "Fetched page 1 of repos for user loklaan\n",
            "Fetched page 1 of repos for user DanielThomas\n",
            "Fetched page 1 of repos for user learntodroid\n",
            "Fetched page 1 of repos for user eliotharper\n",
            "Fetched page 1 of repos for user emilytrau\n",
            "Fetched page 1 of repos for user philipbelesky\n",
            "Fetched page 1 of repos for user josh-\n",
            "Fetched page 1 of repos for user mutoo\n",
            "Fetched page 1 of repos for user KieraDOG\n",
            "Fetched page 1 of repos for user harsilspatel\n",
            "Fetched page 1 of repos for user mitchdenny\n",
            "Fetched page 2 of repos for user mitchdenny\n",
            "Fetched page 1 of repos for user martinbjeldbak\n",
            "Fetched page 1 of repos for user jmattsson\n",
            "Fetched page 1 of repos for user lvjian700\n",
            "Fetched page 1 of repos for user plutext\n",
            "Fetched page 2 of repos for user plutext\n",
            "Fetched page 3 of repos for user plutext\n",
            "Fetched page 1 of repos for user geekscape\n",
            "Fetched page 1 of repos for user Aisuko\n",
            "Fetched page 1 of repos for user dusterio\n",
            "Fetched page 1 of repos for user vertxxyz\n",
            "Fetched page 1 of repos for user EllyLoel\n",
            "Fetched page 1 of repos for user akmand\n",
            "Fetched page 1 of repos for user engram-design\n",
            "Fetched page 1 of repos for user okeeffed\n",
            "Fetched page 2 of repos for user okeeffed\n",
            "Fetched page 3 of repos for user okeeffed\n",
            "Fetched page 1 of repos for user tqwewe\n",
            "Fetched page 2 of repos for user tqwewe\n",
            "Fetched page 1 of repos for user robskillington\n",
            "Fetched page 1 of repos for user gonzalo-bulnes\n",
            "Fetched page 2 of repos for user gonzalo-bulnes\n",
            "Fetched page 1 of repos for user heycam\n",
            "Fetched page 1 of repos for user tyconsulting\n",
            "Fetched page 1 of repos for user colby-swandale\n",
            "Fetched page 1 of repos for user rsharankumar\n",
            "Fetched page 1 of repos for user collibra\n",
            "Fetched page 1 of repos for user bulkan\n",
            "Fetched page 1 of repos for user theminecoder\n",
            "Fetched page 1 of repos for user buntine\n",
            "Fetched page 1 of repos for user JiashuWu\n",
            "Fetched page 1 of repos for user NETTUTS\n",
            "Fetched page 1 of repos for user dgoodlad\n",
            "Fetched page 2 of repos for user dgoodlad\n",
            "Fetched page 1 of repos for user matthaywardwebdesign\n",
            "Fetched page 1 of repos for user danilodelucio\n",
            "Fetched page 1 of repos for user KyeOnDiscord\n",
            "Fetched page 1 of repos for user corsc\n",
            "Fetched page 1 of repos for user andycasey\n",
            "Fetched page 2 of repos for user andycasey\n",
            "Fetched page 1 of repos for user sayboras\n",
            "Fetched page 1 of repos for user beekhof\n",
            "Fetched page 1 of repos for user kawarimidoll\n",
            "Fetched page 2 of repos for user kawarimidoll\n",
            "Fetched page 3 of repos for user kawarimidoll\n",
            "Fetched page 1 of repos for user heykarimoff\n",
            "Fetched page 2 of repos for user heykarimoff\n",
            "Fetched page 1 of repos for user luvuong-le\n",
            "Fetched page 1 of repos for user ricobl\n",
            "Fetched page 1 of repos for user esteinig\n",
            "Fetched page 1 of repos for user adam-gruer\n",
            "Fetched page 2 of repos for user adam-gruer\n",
            "Fetched page 1 of repos for user rotorgames\n",
            "Fetched page 1 of repos for user Adnan25z\n",
            "Fetched page 1 of repos for user paulstefanday\n",
            "Fetched page 1 of repos for user bryceadams\n",
            "Fetched page 1 of repos for user AaronLiftig\n",
            "Fetched page 1 of repos for user vinisalazar\n",
            "Fetched page 2 of repos for user vinisalazar\n",
            "Fetched page 1 of repos for user chongjason914\n",
            "Fetched page 1 of repos for user alecthegeek\n",
            "Fetched page 2 of repos for user alecthegeek\n",
            "Fetched page 1 of repos for user Team-Nando\n",
            "Fetched page 1 of repos for user TrustAGI-Lab\n",
            "Fetched page 1 of repos for user pauldhunt\n",
            "Fetched page 1 of repos for user peterwilsoncc\n",
            "Fetched page 2 of repos for user peterwilsoncc\n",
            "Fetched page 1 of repos for user rossp\n",
            "Fetched page 1 of repos for user seek-oss\n",
            "Fetched page 1 of repos for user michaeltaranto\n",
            "Fetched page 1 of repos for user pazaan\n",
            "Fetched page 1 of repos for user Gnzlt\n",
            "Fetched page 1 of repos for user jacobh\n",
            "Fetched page 1 of repos for user eastrd\n",
            "Fetched page 1 of repos for user RenWenshan\n",
            "Fetched page 1 of repos for user Zemerik\n",
            "Fetched page 1 of repos for user ned2\n",
            "Fetched page 1 of repos for user PaulBone\n",
            "Fetched page 1 of repos for user kouky\n",
            "Fetched page 1 of repos for user franciskim\n",
            "Fetched page 1 of repos for user ziplab\n",
            "Fetched page 1 of repos for user junhaow1\n",
            "Fetched page 1 of repos for user Gurenax\n",
            "Fetched page 2 of repos for user Gurenax\n",
            "Fetched page 1 of repos for user roachhd\n",
            "Fetched page 2 of repos for user roachhd\n",
            "Fetched page 3 of repos for user roachhd\n",
            "Fetched page 4 of repos for user roachhd\n",
            "Fetched page 5 of repos for user roachhd\n",
            "Fetched page 6 of repos for user roachhd\n",
            "Fetched page 7 of repos for user roachhd\n",
            "Fetched page 8 of repos for user roachhd\n",
            "Fetched page 9 of repos for user roachhd\n",
            "Fetched page 10 of repos for user roachhd\n",
            "Fetched page 1 of repos for user vadmium\n",
            "Fetched page 1 of repos for user quad\n",
            "Fetched page 1 of repos for user Gizmotronn\n",
            "Fetched page 2 of repos for user Gizmotronn\n",
            "Fetched page 1 of repos for user danmacnish\n",
            "Fetched page 1 of repos for user mdub\n",
            "Fetched page 2 of repos for user mdub\n",
            "Fetched page 1 of repos for user 3xocyte\n",
            "Fetched page 1 of repos for user Michelledng7\n",
            "Fetched page 1 of repos for user TheDen\n",
            "Fetched page 2 of repos for user TheDen\n",
            "Fetched page 1 of repos for user yinchuandong\n",
            "Fetched page 2 of repos for user yinchuandong\n",
            "Saved repository details to repositories.csv\n"
          ]
        }
      ],
      "source": [
        "import requests\n",
        "import pandas as pd\n",
        "\n",
        "# Replace with your GitHub Personal Access Token\n",
        "token = \"\"  # Replace with your actual token\n",
        "headers = {\"Authorization\": f\"token {token}\"}\n",
        "\n",
        "# Function to fetch all users in Melbourne with over 100 followers\n",
        "def fetch_all_users():\n",
        "    all_users = []\n",
        "    page = 1\n",
        "\n",
        "    # Loop to paginate through users\n",
        "    while True:\n",
        "        url = f\"https://api.github.com/search/users?q=location:Melbourne+followers:>100&per_page=100&page={page}\"\n",
        "        response = requests.get(url, headers=headers)\n",
        "\n",
        "        # Check for rate limit\n",
        "        if response.status_code == 403:\n",
        "            print(\"Rate limit exceeded. Waiting for reset...\")\n",
        "            continue\n",
        "\n",
        "        data = response.json()\n",
        "        users = data.get('items', [])\n",
        "\n",
        "        # Stop if no users are returned\n",
        "        if not users:\n",
        "            break\n",
        "\n",
        "        all_users.extend(users)\n",
        "        print(f\"Fetched {len(users)} users from page {page}\")\n",
        "        page += 1\n",
        "\n",
        "    return all_users\n",
        "\n",
        "# Fetch all user data\n",
        "all_users_data = fetch_all_users()\n",
        "print(f\"Total users fetched: {len(all_users_data)}\")\n",
        "\n",
        "# Extract detailed information for each user\n",
        "user_details = []\n",
        "for user in all_users_data:\n",
        "    user_url = f\"https://api.github.com/users/{user['login']}\"\n",
        "    response = requests.get(user_url, headers=headers)\n",
        "    user_data = response.json()\n",
        "\n",
        "    # Collect relevant fields\n",
        "    user_details.append({\n",
        "        'login': user_data.get('login', ''),\n",
        "        'name': user_data.get('name', ''),\n",
        "        'company': user_data.get('company', '').lstrip('@').strip().upper() if user_data.get('company') else '',\n",
        "        'location': user_data.get('location', ''),\n",
        "        'email': user_data.get('email', ''),\n",
        "        'hireable': user_data.get('hireable', ''),\n",
        "        'bio': user_data.get('bio', ''),\n",
        "        'public_repos': user_data.get('public_repos', 0),\n",
        "        'followers': user_data.get('followers', 0),\n",
        "        'following': user_data.get('following', 0),\n",
        "        'created_at': user_data.get('created_at', '')\n",
        "    })\n",
        "\n",
        "# Convert user data to DataFrame and save to CSV\n",
        "users_df = pd.DataFrame(user_details)\n",
        "users_df.to_csv(\"users.csv\", index=False)\n",
        "print(\"Saved user details to users.csv\")\n",
        "\n",
        "\n",
        "# Function to fetch repositories for each user with pagination\n",
        "def get_user_repositories(user_logins):\n",
        "    repo_details = []\n",
        "    for login in user_logins:\n",
        "        page = 1\n",
        "        while True:\n",
        "            repos_url = f\"https://api.github.com/users/{login}/repos?per_page=100&page={page}\"\n",
        "            response = requests.get(repos_url, headers=headers)\n",
        "\n",
        "            # Check for rate limit\n",
        "            if response.status_code == 403:\n",
        "                print(\"Rate limit exceeded. Waiting for reset...\")\n",
        "                continue\n",
        "\n",
        "            repos = response.json()\n",
        "\n",
        "            # Stop if no repos are returned\n",
        "            if not repos:\n",
        "                break\n",
        "\n",
        "            for repo in repos:\n",
        "                repo_details.append({\n",
        "                    'login': login,\n",
        "                    'full_name': repo.get('full_name', ''),\n",
        "                    'created_at': repo.get('created_at', ''),\n",
        "                    'stargazers_count': repo.get('stargazers_count', 0),\n",
        "                    'watchers_count': repo.get('watchers_count', 0),\n",
        "                    'language': repo.get('language', ''),\n",
        "                    'has_projects': repo.get('has_projects', False),\n",
        "                    'has_wiki': repo.get('has_wiki', False),\n",
        "                    'license_name': repo.get('license', {}).get('key', '') if repo.get('license') else ''\n",
        "                })\n",
        "\n",
        "            print(f\"Fetched page {page} of repos for user {login}\")\n",
        "            page += 1\n",
        "\n",
        "    return repo_details\n",
        "\n",
        "# Fetch repository data for each user in users.csv\n",
        "user_logins = users_df['login'].tolist()\n",
        "repo_details = get_user_repositories(user_logins)\n",
        "\n",
        "# Convert repository data to DataFrame and save to CSV\n",
        "repos_df = pd.DataFrame(repo_details)\n",
        "repos_df.to_csv(\"repositories.csv\", index=False)\n",
        "print(\"Saved repository details to repositories.csv\")\n"
      ]
    },
    {
      "cell_type": "code",
      "source": [
        "import pandas as pd\n",
        "from scipy.stats import linregress\n",
        "\n",
        "# Load the users and repositories data\n",
        "users_df = pd.read_csv(\"users.csv\")\n",
        "repos_df = pd.read_csv(\"repositories.csv\")\n"
      ],
      "metadata": {
        "id": "qaK8Lay6YnfK"
      },
      "execution_count": 3,
      "outputs": []
    },
    {
      "cell_type": "markdown",
      "source": [
        "Ques 1\n"
      ],
      "metadata": {
        "id": "6xUXNO5AsMQ1"
      }
    },
    {
      "cell_type": "code",
      "source": [
        "# Find the top 5 users by number of followers\n",
        "top_5_users = users_df.nlargest(5, 'followers')['login'].tolist()\n",
        "print(\"Top 5 users by followers:\", ', '.join(top_5_users))\n"
      ],
      "metadata": {
        "colab": {
          "base_uri": "https://localhost:8080/"
        },
        "id": "sHO9YX4dYqfH",
        "outputId": "fadf8f65-5f38-4412-a26b-60f04df08dd0"
      },
      "execution_count": 4,
      "outputs": [
        {
          "output_type": "stream",
          "name": "stdout",
          "text": [
            "Top 5 users by followers: mosh-hamedani, TheCherno, haileys, rstacruz, jesseduffield\n"
          ]
        }
      ]
    },
    {
      "cell_type": "markdown",
      "source": [
        "Ques 2"
      ],
      "metadata": {
        "id": "1c2QxywesOLG"
      }
    },
    {
      "cell_type": "code",
      "source": [
        "# Ensure 'created_at' is a datetime object\n",
        "users_df['created_at'] = pd.to_datetime(users_df['created_at'])\n",
        "\n",
        "# Find the 5 earliest registered users\n",
        "earliest_users = users_df.nsmallest(5, 'created_at')['login'].tolist()\n",
        "print(\"Earliest users by registration date:\", ', '.join(earliest_users))\n"
      ],
      "metadata": {
        "colab": {
          "base_uri": "https://localhost:8080/"
        },
        "id": "JTG1YP1IYsmr",
        "outputId": "513c2b5e-b62c-46bc-a419-6724879ea028"
      },
      "execution_count": 5,
      "outputs": [
        {
          "output_type": "stream",
          "name": "stdout",
          "text": [
            "Earliest users by registration date: toolmantim, crafterm, dgoodlad, Sutto, mdub\n"
          ]
        }
      ]
    },
    {
      "cell_type": "markdown",
      "source": [
        "Ques 3"
      ],
      "metadata": {
        "id": "S_EbAgodsQMv"
      }
    },
    {
      "cell_type": "code",
      "source": [
        "# Find the top 3 licenses by counting occurrences, ignoring missing licenses\n",
        "top_licenses = repos_df['license_name'].dropna().value_counts().nlargest(3).index.tolist()\n",
        "print(\"Top 3 licenses:\", ', '.join(top_licenses))\n"
      ],
      "metadata": {
        "colab": {
          "base_uri": "https://localhost:8080/"
        },
        "id": "Y6Ua_aUNYxcX",
        "outputId": "d9feb506-d030-41a9-e92a-b3013b63ffa1"
      },
      "execution_count": 6,
      "outputs": [
        {
          "output_type": "stream",
          "name": "stdout",
          "text": [
            "Top 3 licenses: mit, other, apache-2.0\n"
          ]
        }
      ]
    },
    {
      "cell_type": "markdown",
      "source": [
        "Ques 4"
      ],
      "metadata": {
        "id": "X7Iisz7ssSeD"
      }
    },
    {
      "cell_type": "code",
      "source": [
        "# Identify the most common company\n",
        "most_common_company = users_df['company'].mode()[0]\n",
        "print(\"Most common company:\", most_common_company)\n"
      ],
      "metadata": {
        "colab": {
          "base_uri": "https://localhost:8080/"
        },
        "id": "3L3_fDpRZBoi",
        "outputId": "1573733d-a7a0-4871-ab4c-a5e021137d0e"
      },
      "execution_count": 7,
      "outputs": [
        {
          "output_type": "stream",
          "name": "stdout",
          "text": [
            "Most common company: MONASH UNIVERSITY\n"
          ]
        }
      ]
    },
    {
      "cell_type": "markdown",
      "source": [
        "Ques 5"
      ],
      "metadata": {
        "id": "czoSmsyLsUX9"
      }
    },
    {
      "cell_type": "code",
      "source": [
        "# Identify the most popular programming language\n",
        "most_common_language = repos_df['language'].mode()[0]\n",
        "print(\"Most popular language:\", most_common_language)\n"
      ],
      "metadata": {
        "colab": {
          "base_uri": "https://localhost:8080/"
        },
        "id": "LQJDQiYGZLL0",
        "outputId": "b6f01e16-1d20-47d7-a4ea-4778a2c0986e"
      },
      "execution_count": 8,
      "outputs": [
        {
          "output_type": "stream",
          "name": "stdout",
          "text": [
            "Most popular language: JavaScript\n"
          ]
        }
      ]
    },
    {
      "cell_type": "markdown",
      "source": [
        "Ques 6"
      ],
      "metadata": {
        "id": "wL6FC636sWP6"
      }
    },
    {
      "cell_type": "code",
      "source": [
        "# Filter users who joined after 2020\n",
        "recent_users = users_df[users_df['created_at'] > '2020-01-01']\n",
        "\n",
        "# Find repositories for recent users and identify the second most common language\n",
        "recent_repos = repos_df[repos_df['login'].isin(recent_users['login'])]\n",
        "language_counts = recent_repos['language'].value_counts()\n",
        "\n",
        "# Check if there is a second most popular language\n",
        "if len(language_counts) > 1:\n",
        "    second_most_popular_language = language_counts.index[1]\n",
        "    print(\"Second most popular language for users joined after 2020:\", second_most_popular_language)\n",
        "else:\n",
        "    print(\"No second popular language available.\")\n"
      ],
      "metadata": {
        "colab": {
          "base_uri": "https://localhost:8080/"
        },
        "id": "5-adQIYzZNwF",
        "outputId": "0226b348-6c3c-424e-f3cf-796aa6d96ea1"
      },
      "execution_count": 9,
      "outputs": [
        {
          "output_type": "stream",
          "name": "stdout",
          "text": [
            "Second most popular language for users joined after 2020: JavaScript\n"
          ]
        }
      ]
    },
    {
      "cell_type": "markdown",
      "source": [
        "Ques 7"
      ],
      "metadata": {
        "id": "PedB3wsIsYOC"
      }
    },
    {
      "cell_type": "code",
      "source": [
        "# Calculate average stars per language and find the language with the highest average\n",
        "avg_stars_per_language = repos_df.groupby('language')['stargazers_count'].mean()\n",
        "top_language_by_stars = avg_stars_per_language.idxmax()\n",
        "print(\"Language with highest average stars:\", top_language_by_stars)\n"
      ],
      "metadata": {
        "colab": {
          "base_uri": "https://localhost:8080/"
        },
        "id": "IG9T4UE3ZUdr",
        "outputId": "f5ac4d47-7474-4e22-d07b-f70e3a293017"
      },
      "execution_count": 10,
      "outputs": [
        {
          "output_type": "stream",
          "name": "stdout",
          "text": [
            "Language with highest average stars: D\n"
          ]
        }
      ]
    },
    {
      "cell_type": "markdown",
      "source": [
        "Ques 8"
      ],
      "metadata": {
        "id": "n23GgGxNsaHS"
      }
    },
    {
      "cell_type": "code",
      "source": [
        "# Calculate leader_strength for each user\n",
        "users_df['leader_strength'] = users_df['followers'] / (1 + users_df['following'])\n",
        "\n",
        "# Sort by leader_strength in descending order and get the top 5 users\n",
        "top_5_leader_strength = users_df.nlargest(5, 'leader_strength')['login'].tolist()\n",
        "\n",
        "# Print the top 5 users by leader_strength as a comma-separated list\n",
        "print(\"Top 5 users by leader strength:\", ', '.join(top_5_leader_strength))\n"
      ],
      "metadata": {
        "colab": {
          "base_uri": "https://localhost:8080/"
        },
        "id": "D7vf0RFvZakh",
        "outputId": "6c74cfaf-2020-4ce1-a668-18ee90429a59"
      },
      "execution_count": 11,
      "outputs": [
        {
          "output_type": "stream",
          "name": "stdout",
          "text": [
            "Top 5 users by leader strength: mosh-hamedani, binarythistle, TheCherno, TuPayChain, rogerclarkmelbourne\n"
          ]
        }
      ]
    },
    {
      "cell_type": "markdown",
      "source": [
        "Ques 9"
      ],
      "metadata": {
        "id": "Z6l8JBHTscBH"
      }
    },
    {
      "cell_type": "code",
      "source": [
        "# Calculate the correlation between followers and public repositories\n",
        "followers_repos_corr = users_df['followers'].corr(users_df['public_repos'])\n",
        "print(f\"Correlation between followers and public repos: {followers_repos_corr:.3f}\")\n"
      ],
      "metadata": {
        "colab": {
          "base_uri": "https://localhost:8080/"
        },
        "id": "_9vD_HLUZgxE",
        "outputId": "b0e1a7bb-c4a3-4fc4-9ceb-21dbe527ec17"
      },
      "execution_count": 12,
      "outputs": [
        {
          "output_type": "stream",
          "name": "stdout",
          "text": [
            "Correlation between followers and public repos: 0.188\n"
          ]
        }
      ]
    },
    {
      "cell_type": "markdown",
      "source": [
        "Ques 10"
      ],
      "metadata": {
        "id": "v4yQm77xsd6U"
      }
    },
    {
      "cell_type": "code",
      "source": [
        "# Linear regression of followers on public repos\n",
        "slope, intercept, r_value, p_value, std_err = linregress(users_df['public_repos'], users_df['followers'])\n",
        "print(f\"Estimated followers per additional repo: {slope:.3f}\")\n"
      ],
      "metadata": {
        "colab": {
          "base_uri": "https://localhost:8080/"
        },
        "id": "UaYqpod4ZrRa",
        "outputId": "48c4495b-3b83-41e5-8d90-d023b05b07e9"
      },
      "execution_count": 13,
      "outputs": [
        {
          "output_type": "stream",
          "name": "stdout",
          "text": [
            "Estimated followers per additional repo: 2.243\n"
          ]
        }
      ]
    },
    {
      "cell_type": "markdown",
      "source": [
        "Ques 11"
      ],
      "metadata": {
        "id": "EX5-mrrosf7o"
      }
    },
    {
      "cell_type": "code",
      "source": [
        "# Assuming repos_df contains repository information with 'has_projects' and 'has_wiki' columns\n",
        "\n",
        "# Convert 'has_projects' and 'has_wiki' columns to integers for correlation calculation\n",
        "repos_df['has_projects'] = repos_df['has_projects'].astype(int)\n",
        "repos_df['has_wiki'] = repos_df['has_wiki'].astype(int)\n",
        "\n",
        "# Calculate the correlation between 'has_projects' and 'has_wiki'\n",
        "projects_wiki_corr = repos_df['has_projects'].corr(repos_df['has_wiki'])\n",
        "\n",
        "# Print the correlation, rounded to 3 decimal places\n",
        "print(f\"Correlation between projects and wiki enabled: {projects_wiki_corr:.3f}\")\n"
      ],
      "metadata": {
        "colab": {
          "base_uri": "https://localhost:8080/"
        },
        "id": "WIqOPxVdZw1R",
        "outputId": "e6c7726e-e24d-43ac-fe73-6c1d67e28632"
      },
      "execution_count": 32,
      "outputs": [
        {
          "output_type": "stream",
          "name": "stdout",
          "text": [
            "Correlation between projects and wiki enabled: 0.377\n"
          ]
        }
      ]
    },
    {
      "cell_type": "markdown",
      "source": [
        "Ques 12"
      ],
      "metadata": {
        "id": "2ooIJohYshva"
      }
    },
    {
      "cell_type": "code",
      "source": [
        "# Ensure 'hireable' has no NaN values by filling missing entries with False\n",
        "users_df['hireable'] = users_df['hireable'].fillna(False)\n",
        "\n",
        "# Calculate the average 'following' count for hireable users\n",
        "hireable_avg_following = users_df[users_df['hireable'] == True]['following'].mean()\n",
        "\n",
        "# Calculate the average 'following' count for non-hireable users\n",
        "non_hireable_avg_following = users_df[users_df['hireable'] == False]['following'].mean()\n",
        "\n",
        "# Calculate the difference between hireable and non-hireable average following counts\n",
        "following_difference = hireable_avg_following - non_hireable_avg_following\n",
        "\n",
        "# Print the result, rounded to 3 decimal places\n",
        "print(f\"Difference in following between hireable and non-hireable users: {following_difference:.3f}\")\n"
      ],
      "metadata": {
        "colab": {
          "base_uri": "https://localhost:8080/"
        },
        "id": "RhQm0uHKZ3a0",
        "outputId": "18295fc2-d0e0-4f94-883d-043a5018a815"
      },
      "execution_count": 34,
      "outputs": [
        {
          "output_type": "stream",
          "name": "stdout",
          "text": [
            "Difference in following between hireable and non-hireable users: 45.901\n"
          ]
        }
      ]
    },
    {
      "cell_type": "markdown",
      "source": [
        "Ques 13"
      ],
      "metadata": {
        "id": "RD98RivQsjs6"
      }
    },
    {
      "cell_type": "code",
      "source": [
        "# Filter out users with empty bios\n",
        "users_with_bios = users_df[users_df['bio'].notna()]\n",
        "users_with_bios['bio_word_count'] = users_with_bios['bio'].apply(lambda x: len(x.split()))\n",
        "\n",
        "# Perform linear regression of followers on bio word count\n",
        "slope, intercept, r_value, p_value, std_err = linregress(users_with_bios['bio_word_count'], users_with_bios['followers'])\n",
        "print(f\"Impact of bio length on followers: {slope:.3f} followers per word\")\n"
      ],
      "metadata": {
        "colab": {
          "base_uri": "https://localhost:8080/"
        },
        "id": "TN2ypyGXZ7qx",
        "outputId": "48400b02-e90b-4d82-f5a3-bdf6a81fe74f"
      },
      "execution_count": 16,
      "outputs": [
        {
          "output_type": "stream",
          "name": "stdout",
          "text": [
            "Impact of bio length on followers: 7.352 followers per word\n"
          ]
        },
        {
          "output_type": "stream",
          "name": "stderr",
          "text": [
            "<ipython-input-16-c65a8801ba6c>:3: SettingWithCopyWarning: \n",
            "A value is trying to be set on a copy of a slice from a DataFrame.\n",
            "Try using .loc[row_indexer,col_indexer] = value instead\n",
            "\n",
            "See the caveats in the documentation: https://pandas.pydata.org/pandas-docs/stable/user_guide/indexing.html#returning-a-view-versus-a-copy\n",
            "  users_with_bios['bio_word_count'] = users_with_bios['bio'].apply(lambda x: len(x.split()))\n"
          ]
        }
      ]
    },
    {
      "cell_type": "markdown",
      "source": [
        "Ques 14"
      ],
      "metadata": {
        "id": "B2T0yvNgslj_"
      }
    },
    {
      "cell_type": "code",
      "source": [
        "# Convert 'created_at' to datetime to enable weekday extraction\n",
        "repos_df['created_at'] = pd.to_datetime(repos_df['created_at'])\n",
        "\n",
        "# Filter for repos created on weekends (Saturday=5, Sunday=6)\n",
        "weekend_repos = repos_df[repos_df['created_at'].dt.weekday >= 5]\n",
        "\n",
        "# Count repositories created on weekends by each user and get top 5\n",
        "top_weekend_creators = weekend_repos['login'].value_counts().nlargest(5).index.tolist()\n",
        "print(\"Top 5 users who created most repos on weekends:\", ', '.join(top_weekend_creators))\n"
      ],
      "metadata": {
        "colab": {
          "base_uri": "https://localhost:8080/"
        },
        "id": "ZiphDAbmaFuL",
        "outputId": "40e31b29-ffd6-4fe3-c46f-ad3901f880a0"
      },
      "execution_count": 17,
      "outputs": [
        {
          "output_type": "stream",
          "name": "stdout",
          "text": [
            "Top 5 users who created most repos on weekends: roachhd, wolfeidau, karkranikhil, rstacruz, plutext\n"
          ]
        }
      ]
    },
    {
      "cell_type": "markdown",
      "source": [
        "Ques 15"
      ],
      "metadata": {
        "id": "qVhypwt4snpL"
      }
    },
    {
      "cell_type": "code",
      "source": [
        "# Calculate the fraction of hireable users who have an email\n",
        "hireable_with_email_fraction = users_df[(users_df['hireable'] == True) & (users_df['email'].notna())].shape[0] / users_df[users_df['hireable'] == True].shape[0]\n",
        "\n",
        "# Calculate the fraction of non-hireable users who have an email\n",
        "non_hireable_with_email_fraction = users_df[(users_df['hireable'] == False) & (users_df['email'].notna())].shape[0] / users_df[users_df['hireable'] == False].shape[0]\n",
        "\n",
        "# Calculate the difference\n",
        "email_fraction_difference = hireable_with_email_fraction - non_hireable_with_email_fraction\n",
        "\n",
        "# Print the result, rounded to 3 decimal places\n",
        "print(f\"Fraction difference (hireable vs non-hireable) sharing emails: {email_fraction_difference:.3f}\")\n"
      ],
      "metadata": {
        "colab": {
          "base_uri": "https://localhost:8080/"
        },
        "id": "LbtkrSdIaMll",
        "outputId": "44e3aa0d-f0ae-48e6-959e-3e82b545a1f2"
      },
      "execution_count": 35,
      "outputs": [
        {
          "output_type": "stream",
          "name": "stdout",
          "text": [
            "Fraction difference (hireable vs non-hireable) sharing emails: -0.048\n"
          ]
        }
      ]
    },
    {
      "cell_type": "code",
      "source": [
        "# Ensure 'name' column has no NaN values by replacing them with an empty string\n",
        "users_df['name'] = users_df['name'].fillna('')\n",
        "\n",
        "# Extract the last word in the 'name' column as the surname, handling empty and whitespace-only names\n",
        "users_df['surname'] = users_df['name'].apply(lambda x: x.strip().split()[-1] if x.strip() else '')\n",
        "\n",
        "# Count occurrences of each surname\n",
        "surname_counts = users_df['surname'].value_counts()\n",
        "\n",
        "# Find the maximum occurrence count\n",
        "most_common_count = surname_counts.max()\n",
        "\n",
        "# Get all surnames with this maximum count (to handle ties)\n",
        "most_common_surnames = surname_counts[surname_counts == most_common_count].index.tolist()\n",
        "\n",
        "# Print the most common surname(s), sorted alphabetically\n",
        "print(\"Most common surname(s):\", ', '.join(sorted(most_common_surnames)))\n"
      ],
      "metadata": {
        "colab": {
          "base_uri": "https://localhost:8080/"
        },
        "id": "Eqczck-0aPEx",
        "outputId": "ec329407-0d21-497a-c9d5-e4681e24620f"
      },
      "execution_count": 36,
      "outputs": [
        {
          "output_type": "stream",
          "name": "stdout",
          "text": [
            "Most common surname(s): \n"
          ]
        }
      ]
    }
  ]
}